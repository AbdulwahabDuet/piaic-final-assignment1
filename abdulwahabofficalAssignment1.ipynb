{
 "cells": [
  {
   "cell_type": "markdown",
   "metadata": {},
   "source": [
    "## 1. Calculate Area of a Circle"
   ]
  },
  {
   "cell_type": "markdown",
   "metadata": {},
   "source": [
    "#### Write a Python program which accepts the radius of a circle from the user and compute the area.\n",
    "###### Program Console Sample Output 1:\n",
    "###### Input Radius: 0.5\n",
    "###### Area of Circle with radius 0.5 is 0.7853981634"
   ]
  },
  {
   "cell_type": "code",
   "execution_count": 9,
   "metadata": {},
   "outputs": [
    {
     "name": "stdout",
     "output_type": "stream",
     "text": [
      "Enter The Radius0.5\n",
      "Area of circle with radius  0.5 is = 0.7857142857142857\n"
     ]
    }
   ],
   "source": [
    "radius=float(input(\"Enter The Radius\"))\n",
    "pie=22/7\n",
    "area=pie*(radius**2)\n",
    "print(\"Area of circle with radius \",radius,\"is =\",area)"
   ]
  },
  {
   "cell_type": "markdown",
   "metadata": {},
   "source": [
    "## 2. Check Number either positive, negative or zero"
   ]
  },
  {
   "cell_type": "markdown",
   "metadata": {},
   "source": [
    "#### Write a Python program to check if a number is positive, negative or zero\n",
    "###### Program Console Sample Output 1:\n",
    "###### Enter Number: -1\n",
    "##### Negative Number Entered\n",
    "###### Program Console Sample Output 2:\n",
    "##### Integer: 3\n",
    "##### Positive Number Entered\n",
    "###### Program Console Sample Output 3:\n",
    "##### Integer: 0\n",
    "###### Zero Entered"
   ]
  },
  {
   "cell_type": "code",
   "execution_count": 12,
   "metadata": {},
   "outputs": [
    {
     "name": "stdout",
     "output_type": "stream",
     "text": [
      "Enter number to check = -1\n",
      "negative number entered\n"
     ]
    }
   ],
   "source": [
    "#sample 1\n",
    "num=int(input(\"Enter number to check = \"))\n",
    "if num>0:\n",
    " print(\"positive number entered\")\n",
    "elif num<0:\n",
    " print(\"negative number entered\")\n",
    "else:\n",
    "  print(\"zero entered\")"
   ]
  },
  {
   "cell_type": "code",
   "execution_count": 13,
   "metadata": {},
   "outputs": [
    {
     "name": "stdout",
     "output_type": "stream",
     "text": [
      "Enter number to check = 3\n",
      "positive number entered\n"
     ]
    }
   ],
   "source": [
    "#sample 2\n",
    "num=int(input(\"Enter number to check = \"))\n",
    "if num>0:\n",
    " print(\"positive number entered\")\n",
    "elif num<0:\n",
    " print(\"negative number entered\")\n",
    "else:\n",
    "  print(\"zero entered\")"
   ]
  },
  {
   "cell_type": "code",
   "execution_count": 14,
   "metadata": {},
   "outputs": [
    {
     "name": "stdout",
     "output_type": "stream",
     "text": [
      "Enter number to check = 0\n",
      "zero entered\n"
     ]
    }
   ],
   "source": [
    "#sample 3\n",
    "num=int(input(\"Enter number to check = \"))\n",
    "if num>0:\n",
    " print(\"positive number entered\")\n",
    "elif num<0:\n",
    " print(\"negative number entered\")\n",
    "else:\n",
    "  print(\"zero entered\")"
   ]
  },
  {
   "cell_type": "markdown",
   "metadata": {},
   "source": [
    "## 3. Divisibility Check of two numbers"
   ]
  },
  {
   "cell_type": "markdown",
   "metadata": {},
   "source": [
    "#### Write a Python program to check whether a number is completely divisible by another number. Accept two integer values form the user\n",
    "##### Program Console Sample Output 1:\n",
    "###### Enter numerator: 4\n",
    "###### Enter Denominator: 2\n",
    "##### Number 4 is Completely divisible by 2\n",
    "###### Program Console Sample Output 2:\n",
    "##### Enter numerator: 7\n",
    "\n",
    "##### Enter Denominator: 4\n",
    "###### Number 7 is not Completely divisible by 4"
   ]
  },
  {
   "cell_type": "code",
   "execution_count": 15,
   "metadata": {},
   "outputs": [
    {
     "name": "stdout",
     "output_type": "stream",
     "text": [
      "Enter numerator = 4\n",
      "Enter denominator = 2\n",
      "Number  4  is completely divisble by 2\n"
     ]
    }
   ],
   "source": [
    "numerator=int(input(\"Enter numerator = \"))\n",
    "denominator=int(input(\"Enter denominator = \"))\n",
    "if numerator%denominator==0:\n",
    "    print(\"Number \",numerator,\" is completely divisble by\",denominator)\n",
    "elif numerator%denominator!=0:\n",
    "    print(\"Number\",numerator,\" is not completely divisble by\",denominator)"
   ]
  },
  {
   "cell_type": "code",
   "execution_count": 16,
   "metadata": {},
   "outputs": [
    {
     "name": "stdout",
     "output_type": "stream",
     "text": [
      "Enter numerator = 7\n",
      "Enter denominator = 4\n",
      "Number 7  is not completely divisble by 4\n"
     ]
    }
   ],
   "source": [
    "numerator=int(input(\"Enter numerator = \"))\n",
    "denominator=int(input(\"Enter denominator = \"))\n",
    "if numerator%denominator==0:\n",
    "    print(\"Number \",numerator,\" is completely divisble by\",denominator)\n",
    "elif numerator%denominator!=0:\n",
    "    print(\"Number\",numerator,\" is not completely divisble by\",denominator)"
   ]
  },
  {
   "cell_type": "markdown",
   "metadata": {},
   "source": [
    "## 4. Calculate Volume of a sphere"
   ]
  },
  {
   "cell_type": "markdown",
   "metadata": {},
   "source": [
    "##### Write a Python program to get the volume of a sphere, please take the radius as input from user"
   ]
  },
  {
   "cell_type": "markdown",
   "metadata": {},
   "source": [
    "##### Program Console Output:\n",
    "##### Enter Radius of Sphere: 1\n",
    "###### Volume of the Sphere with Radius 1 is 4.18"
   ]
  },
  {
   "cell_type": "code",
   "execution_count": 20,
   "metadata": {},
   "outputs": [
    {
     "name": "stdout",
     "output_type": "stream",
     "text": [
      "Enter radius of sphere = 1\n",
      "Volume of sphere with Radius  1 is  4.189333333333333\n"
     ]
    }
   ],
   "source": [
    "radius=int(input(\"Enter radius of sphere = \"))\n",
    "volume=(4/3)*3.142*(radius**3)\n",
    "print(\"Volume of sphere with Radius \",radius,\"is \",volume)"
   ]
  },
  {
   "cell_type": "markdown",
   "metadata": {},
   "source": [
    "## 5. Copy string n times\n",
    "#### Write a Python program to get a string which is n (non-negative integer) copies of a given string.\n",
    "##### Program Console Output:\n",
    "##### Enter String: Hi\n",
    "###### How many copies of String you need: 4\n",
    "###### 4 Copies of Hi are HiHiHiHi"
   ]
  },
  {
   "cell_type": "code",
   "execution_count": 21,
   "metadata": {},
   "outputs": [
    {
     "name": "stdout",
     "output_type": "stream",
     "text": [
      "Enter string = hi\n",
      "how many copies of string you need = 4\n",
      "4  copies of  hi  are  hihihihi\n"
     ]
    }
   ],
   "source": [
    "st=input(\"Enter string = \")\n",
    "num_of_times=int(input(\"how many copies of string you need = \"))\n",
    "copies=st*num_of_times\n",
    "print(num_of_times,\" copies of \",st,\" are \",copies)"
   ]
  },
  {
   "cell_type": "markdown",
   "metadata": {},
   "source": [
    "## 6. Check if number is Even or Odd\n",
    "### Write a Python program to find whether a given number (accept from the user) is even or odd, print out an appropriate message to the user\n",
    "#### Program Console Output 1:\n",
    "##### Enter Number: 4\n",
    "###### 4 is Even\n",
    "#### Program Console Output 2:\n",
    "##### Enter Number: 9\n",
    "###### 9 is Odd"
   ]
  },
  {
   "cell_type": "code",
   "execution_count": 25,
   "metadata": {},
   "outputs": [
    {
     "name": "stdout",
     "output_type": "stream",
     "text": [
      "Enter number:4\n",
      "4 is Even\n"
     ]
    }
   ],
   "source": [
    "#sample 1\n",
    "num=int(input(\"Enter number:\"))\n",
    "if num%2==0:\n",
    "    print(num,\"is Even\")\n",
    "elif num%2!=0:\n",
    "    print(num,\"is odd\")\n",
    "    "
   ]
  },
  {
   "cell_type": "code",
   "execution_count": 26,
   "metadata": {},
   "outputs": [
    {
     "name": "stdout",
     "output_type": "stream",
     "text": [
      "Enter number:9\n",
      "9 is odd\n"
     ]
    }
   ],
   "source": [
    "#sample 2\n",
    "num=int(input(\"Enter number:\"))\n",
    "if num%2==0:\n",
    "    print(num,\"is Even\")\n",
    "elif num%2!=0:\n",
    "    print(num,\"is odd\")\n",
    "    "
   ]
  },
  {
   "cell_type": "markdown",
   "metadata": {},
   "source": [
    "## 7. Vowel Tester\n",
    "### Write a Python program to test whether a passed letter is a vowel or not\n",
    "#### Program Console Output 1:\n",
    "##### Enter a character: A\n",
    "###### Letter A is Vowel\n",
    "#### Program Console Output 2:\n",
    "##### Enter a character: e\n",
    "###### Letter e is Vowel\n",
    "#### Program Console Output 2:\n",
    "##### Enter a character: N\n",
    "###### Letter N is not Vowel"
   ]
  },
  {
   "cell_type": "code",
   "execution_count": 31,
   "metadata": {},
   "outputs": [
    {
     "name": "stdout",
     "output_type": "stream",
     "text": [
      "Enter a character: A\n",
      "Letter A is vowel\n"
     ]
    }
   ],
   "source": [
    "#alpha=alphabet\n",
    "#sample 1\n",
    "alpha=input(\"Enter a character: \")\n",
    "if (alpha=='a'or alpha=='A' or alpha=='e'or alpha=='E' or alpha=='i' or alpha=='I' or  alpha=='o'or alpha=='O' or  alpha=='u' or alpha=='U'):\n",
    "    print(\"Letter\",alpha,\"is vowel\")\n",
    "else:\n",
    "    print(\"Letter\",alpha,\"is not vowel\")"
   ]
  },
  {
   "cell_type": "code",
   "execution_count": 35,
   "metadata": {},
   "outputs": [
    {
     "name": "stdout",
     "output_type": "stream",
     "text": [
      "Enter a character: e\n",
      "Letter e is vowel\n"
     ]
    }
   ],
   "source": [
    "#alpha=alphabet\n",
    "#sample 2\n",
    "alpha=input(\"Enter a character: \")\n",
    "if (alpha=='a'or alpha=='A' or alpha=='e'or alpha=='E' or alpha=='i' or alpha=='I' or  alpha=='o'or alpha=='O' or  alpha=='u' or alpha=='U'):\n",
    "    print(\"Letter\",alpha,\"is vowel\")\n",
    "else:\n",
    "    print(\"Letter\",alpha,\"is not vowel\")"
   ]
  },
  {
   "cell_type": "code",
   "execution_count": 36,
   "metadata": {},
   "outputs": [
    {
     "name": "stdout",
     "output_type": "stream",
     "text": [
      "Enter a character: N\n",
      "Letter N is not vowel\n"
     ]
    }
   ],
   "source": [
    "#alpha=alphabet\n",
    "#sample 3\n",
    "alpha=input(\"Enter a character: \")\n",
    "if (alpha=='a'or alpha=='A' or alpha=='e'or alpha=='E' or alpha=='i' or alpha=='I' or  alpha=='o'or alpha=='O' or  alpha=='u' or alpha=='U'):\n",
    "    print(\"Letter\",alpha,\"is vowel\")\n",
    "else:\n",
    "    print(\"Letter\",alpha,\"is not vowel\")"
   ]
  },
  {
   "cell_type": "markdown",
   "metadata": {},
   "source": [
    "## 8. Triangle area\n",
    "### Write a Python program that will accept the base and height of a triangle and compute the area\n",
    "###### Reference:\n",
    "https://www.mathgoodies.com/lessons/vol1/area_triangle"
   ]
  },
  {
   "cell_type": "code",
   "execution_count": 37,
   "metadata": {},
   "outputs": [
    {
     "name": "stdout",
     "output_type": "stream",
     "text": [
      "Enter base = 40\n",
      "Enter height = 5.2\n",
      "Area of triangle =  104.0\n"
     ]
    }
   ],
   "source": [
    "base=float(input(\"Enter base = \"))\n",
    "height=float(input(\"Enter height = \"))\n",
    "area=(base*height)/2\n",
    "print(\"Area of triangle = \",area)\n",
    "\n"
   ]
  },
  {
   "cell_type": "markdown",
   "metadata": {},
   "source": [
    "# 9. Calculate Interest\n",
    "### Write a Python program to compute the future value of a specified principal amount, rate of interest, and a number of years\n",
    "#### Program Console Sample 1:\n",
    "##### Please enter principal amount: 10000\n",
    "###### Please Enter Rate of interest in %: 0.1\n",
    "##### Enter number of years for investment: 5\n",
    "##### After 5 years your principal amount 10000 over an interest rate of 0.1 % will be 16105.1"
   ]
  },
  {
   "cell_type": "code",
   "execution_count": 43,
   "metadata": {},
   "outputs": [
    {
     "name": "stdout",
     "output_type": "stream",
     "text": [
      "please enter principle amount:10000\n",
      "please enter rate of interest in % :0.1\n",
      "enter number of years for investment:5\n",
      "After 5 your principle amount 10000 over an interest rate of  0.1 % will be 10050.0\n"
     ]
    }
   ],
   "source": [
    "amount=int(input(\"please enter principle amount:\"))\n",
    "interest=float(input(\"please enter rate of interest in % :\"))\n",
    "year=int(input(\"enter number of years for investment:\"))\n",
    "total_amount=float((amount*interest*year)/100)\n",
    "interest_amount=amount+total_amount\n",
    "print(\"After\",year,\"your principle amount\",amount,\"over an interest rate of \",interest,\"% will be\",interest_amount )\n",
    "\n"
   ]
  },
  {
   "cell_type": "markdown",
   "metadata": {},
   "source": [
    "## 10. Euclidean distance\n",
    "### write a Python program to compute the distance between the points (x1, y1) and (x2, y2).\n",
    "#### Program Console Sample 1:\n",
    "###### Enter Co-ordinate for x1: 2\n",
    "###### Enter Co-ordinate for x2: 4\n",
    "###### Enter Co-ordinate for y1: 4\n",
    "###### Enter Co-ordinate for y2: 4\n",
    "###### Distance between points (2, 4) and (4, 4) is 2"
   ]
  },
  {
   "cell_type": "markdown",
   "metadata": {},
   "source": [
    "###### Reference:\n",
    "https://en.wikipedia.org/wiki/Euclidean_distance"
   ]
  },
  {
   "cell_type": "code",
   "execution_count": 1,
   "metadata": {},
   "outputs": [
    {
     "name": "stdout",
     "output_type": "stream",
     "text": [
      "Enter co-ordinate for x1:2\n",
      "Enter co-ordinate for x2:4\n",
      "Enter co-ordinate for y1:4\n",
      "Enter co-ordinate for y2:4\n",
      "distance between ( 2 4 ) and ( 4 4 ) is  2\n"
     ]
    }
   ],
   "source": [
    "x1=int(input(\"Enter co-ordinate for x1:\"))\n",
    "x2=int(input(\"Enter co-ordinate for x2:\"))\n",
    "y1=int(input(\"Enter co-ordinate for y1:\"))\n",
    "y2=int(input(\"Enter co-ordinate for y2:\"))\n",
    "distance=( (x1-y1)**2 + (x2-y2)**2 )**1/2\n",
    "print(\"distance between (\",x1,y1,\") and (\",x2,y2,\") is \",int(distance))"
   ]
  },
  {
   "cell_type": "markdown",
   "metadata": {},
   "source": [
    "## 11. Feet to Centimeter Converter\n",
    "### Write a Python program to convert height in feet to centimetres.\n",
    "##### Program Console Sample 1:\n",
    "###### Enter Height in Feet: 5\n",
    "###### There are 152.4 Cm in 5 ft\n",
    "###### Reference:\n",
    "https://www.rapidtables.com/convert/length/feet-to-cm.html"
   ]
  },
  {
   "cell_type": "code",
   "execution_count": 5,
   "metadata": {},
   "outputs": [
    {
     "name": "stdout",
     "output_type": "stream",
     "text": [
      "Enter height in feet : 5\n",
      "There are 152.4 Cm in 5 ft\n"
     ]
    }
   ],
   "source": [
    "feet=float(input(\"Enter height in feet : \"))\n",
    "cm=feet*30.48\n",
    "print(\"There are\",cm,\"Cm in\",feet,\"ft\")"
   ]
  },
  {
   "cell_type": "markdown",
   "metadata": {},
   "source": [
    "## 12. BMI Calculator\n",
    "### Write a Python program to calculate body mass index\n",
    "##### Program Console Sample 1:\n",
    "###### Enter Height in Cm: 180\n",
    "###### Enter Weight in Kg: 75\n",
    "###### Your BMI is 23.15"
   ]
  },
  {
   "cell_type": "code",
   "execution_count": 6,
   "metadata": {},
   "outputs": [
    {
     "name": "stdout",
     "output_type": "stream",
     "text": [
      "Enter height in cm : 180\n",
      "Enter weight in kg : 75\n",
      "Your bmi is  23.148148148148145\n"
     ]
    }
   ],
   "source": [
    "height=int(input(\"Enter height in cm : \"))\n",
    "heightm=(height/100)**2\n",
    "mass=int(input(\"Enter weight in kg : \"))\n",
    "bmi=float(mass/heightm)\n",
    "print(\"Your bmi is \",bmi)"
   ]
  },
  {
   "cell_type": "markdown",
   "metadata": {},
   "source": [
    "## 13. Sum of n Positive Integers\n",
    "### Write a python program to sum of the first n positive integers\n",
    "#### Program Console Sample 1:\n",
    "###### Enter value of n: 5\n",
    "###### Sum of n Positive integers till 5 is 15"
   ]
  },
  {
   "cell_type": "code",
   "execution_count": 9,
   "metadata": {},
   "outputs": [
    {
     "name": "stdout",
     "output_type": "stream",
     "text": [
      "Enter value of n :5\n",
      "sum of n positive integers till 5  is  15\n"
     ]
    }
   ],
   "source": [
    "n=int(input(\"Enter value of n :\"))\n",
    "sum=(n*(n+1))/2\n",
    "print(\"sum of n positive integers till\",n,\" is \",int(sum))"
   ]
  },
  {
   "cell_type": "markdown",
   "metadata": {},
   "source": [
    "## 14. Digits Sum of a Number\n",
    "### Write a Python program to calculate the sum of the digits in an integer\n",
    "#### Program Console Sample 1:\n",
    "##### Enter a number: 15\n",
    "###### Sum of 1 + 5 is 6\n",
    "#### Program Console Sample 2:\n",
    "##### Enter a number: 1234\n",
    "###### Sum of 1 + 2 + 3 + 4 is 10"
   ]
  },
  {
   "cell_type": "code",
   "execution_count": 13,
   "metadata": {},
   "outputs": [
    {
     "name": "stdout",
     "output_type": "stream",
     "text": [
      "Enter number:15\n",
      "The sum of digits of number is :  6\n"
     ]
    }
   ],
   "source": [
    "#sample 1\n",
    "num=int(input(\"Enter number:\"))\n",
    "sm=0\n",
    "for i in range(len(str(num))):\n",
    "    sm += num % 10\n",
    "    num = num//10\n",
    "print (\"The sum of digits of number is : \", sm)               "
   ]
  },
  {
   "cell_type": "code",
   "execution_count": 14,
   "metadata": {},
   "outputs": [
    {
     "name": "stdout",
     "output_type": "stream",
     "text": [
      "Enter number:1234\n",
      "The sum of digits of number is :  10\n"
     ]
    }
   ],
   "source": [
    "#sample 2\n",
    "num=int(input(\"Enter number:\"))\n",
    "sm=0\n",
    "for i in range(len(str(num))):\n",
    "    sm += num % 10\n",
    "    num = num//10\n",
    "print (\"The sum of digits of number is : \", sm)               "
   ]
  }
 ],
 "metadata": {
  "kernelspec": {
   "display_name": "Python 3",
   "language": "python",
   "name": "python3"
  },
  "language_info": {
   "codemirror_mode": {
    "name": "ipython",
    "version": 3
   },
   "file_extension": ".py",
   "mimetype": "text/x-python",
   "name": "python",
   "nbconvert_exporter": "python",
   "pygments_lexer": "ipython3",
   "version": "3.7.1"
  }
 },
 "nbformat": 4,
 "nbformat_minor": 2
}
